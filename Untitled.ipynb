{
 "cells": [
  {
   "cell_type": "code",
   "execution_count": 1,
   "id": "51029dc3",
   "metadata": {},
   "outputs": [],
   "source": [
    "import pandas as pd"
   ]
  },
  {
   "cell_type": "code",
   "execution_count": 4,
   "id": "fa5d8601",
   "metadata": {},
   "outputs": [],
   "source": [
    "df = pd.read_csv('./hoge.csv')"
   ]
  },
  {
   "cell_type": "code",
   "execution_count": 19,
   "id": "a8c21c73",
   "metadata": {},
   "outputs": [],
   "source": [
    "name = df['Adname'].str[10::]\n",
    "df['name'] = name"
   ]
  },
  {
   "cell_type": "code",
   "execution_count": 21,
   "id": "25ea5b2c",
   "metadata": {},
   "outputs": [],
   "source": [
    "dupli = df['name'].unique()"
   ]
  },
  {
   "cell_type": "code",
   "execution_count": 22,
   "id": "3a39cf5c",
   "metadata": {},
   "outputs": [
    {
     "data": {
      "text/plain": [
       "array(['A1T1', 'A4T1', 'A3T1'], dtype=object)"
      ]
     },
     "execution_count": 22,
     "metadata": {},
     "output_type": "execute_result"
    }
   ],
   "source": [
    "dupli"
   ]
  },
  {
   "cell_type": "code",
   "execution_count": 25,
   "id": "e61bcac9",
   "metadata": {},
   "outputs": [],
   "source": [
    "df1 = pd.DataFrame(\n",
    "    data={\n",
    "        '広告名':[],\n",
    "        'インプレッション':[],\n",
    "        'クリック数':[],\n",
    "        'CTR':[],\n",
    "        'CPC':[],\n",
    "        'CV':[],\n",
    "        'CVR':[],\n",
    "        'CPA':[],\n",
    "        'Cost':[],\n",
    "    }\n",
    ")"
   ]
  },
  {
   "cell_type": "code",
   "execution_count": null,
   "id": "3936a0e9",
   "metadata": {},
   "outputs": [
    {
     "data": {
      "text/html": [
       "<div>\n",
       "<style scoped>\n",
       "    .dataframe tbody tr th:only-of-type {\n",
       "        vertical-align: middle;\n",
       "    }\n",
       "\n",
       "    .dataframe tbody tr th {\n",
       "        vertical-align: top;\n",
       "    }\n",
       "\n",
       "    .dataframe thead th {\n",
       "        text-align: right;\n",
       "    }\n",
       "</style>\n",
       "<table border=\"1\" class=\"dataframe\">\n",
       "  <thead>\n",
       "    <tr style=\"text-align: right;\">\n",
       "      <th></th>\n",
       "      <th>広告名</th>\n",
       "      <th>インプレッション</th>\n",
       "      <th>クリック数</th>\n",
       "      <th>CTR</th>\n",
       "      <th>CPC</th>\n",
       "      <th>CV</th>\n",
       "      <th>CVR</th>\n",
       "      <th>CPA</th>\n",
       "      <th>Cost</th>\n",
       "    </tr>\n",
       "  </thead>\n",
       "  <tbody>\n",
       "  </tbody>\n",
       "</table>\n",
       "</div>"
      ],
      "text/plain": [
       "Empty DataFrame\n",
       "Columns: [広告名, インプレッション, クリック数, CTR, CPC, CV, CVR, CPA, Cost]\n",
       "Index: []"
      ]
     },
     "execution_count": 26,
     "metadata": {},
     "output_type": "execute_result"
    }
   ],
   "source": [
    "df1"
   ]
  },
  {
   "cell_type": "code",
   "execution_count": null,
   "id": "2a57df6b",
   "metadata": {},
   "outputs": [],
   "source": []
  }
 ],
 "metadata": {
  "kernelspec": {
   "display_name": "Python 3 (ipykernel)",
   "language": "python",
   "name": "python3"
  },
  "language_info": {
   "codemirror_mode": {
    "name": "ipython",
    "version": 3
   },
   "file_extension": ".py",
   "mimetype": "text/x-python",
   "name": "python",
   "nbconvert_exporter": "python",
   "pygments_lexer": "ipython3",
   "version": "3.11.3"
  }
 },
 "nbformat": 4,
 "nbformat_minor": 5
}
